{
  "nbformat": 4,
  "nbformat_minor": 0,
  "metadata": {
    "colab": {
      "provenance": [],
      "include_colab_link": true
    },
    "kernelspec": {
      "name": "python3",
      "display_name": "Python 3"
    },
    "language_info": {
      "name": "python"
    }
  },
  "cells": [
    {
      "cell_type": "markdown",
      "metadata": {
        "id": "view-in-github",
        "colab_type": "text"
      },
      "source": [
        "<a href=\"https://colab.research.google.com/github/andresRah/keepcoding-despliegue/blob/main/API_Calls.ipynb\" target=\"_parent\"><img src=\"https://colab.research.google.com/assets/colab-badge.svg\" alt=\"Open In Colab\"/></a>"
      ]
    },
    {
      "cell_type": "code",
      "execution_count": null,
      "metadata": {
        "colab": {
          "base_uri": "https://localhost:8080/"
        },
        "id": "pILUCiUT3cS-",
        "outputId": "ff0caca0-5fb2-4ecf-c452-c04e4e6dabe6"
      },
      "outputs": [
        {
          "output_type": "stream",
          "name": "stdout",
          "text": [
            "/data/2 Response: {'Value': 4.7}\n",
            "/hello Response: {'message': 'Bienvenido! Tu nombre es John y tu apellido Doe'}\n",
            "/classify_tweet Response: {'Sentiment': 'POSITIVE'}\n",
            "/generate_bitcoin_tweet Response: {'Generated_Tweets': ['The potential of Bitcoin is clear: it is an electronic system of value transfer, censorship free markets.\" ~ Satoshi Nakamoto', \"The potential of Bitcoin is enormous. It's something that no one will ever accept as standard.\", 'The potential of Bitcoin is to disrupt the conventional money system and thus replace it with the ability of those who hold it as collateral for future purchases of money.', 'The potential of Bitcoin is greater than ever.', 'The potential of Bitcoin is huge and it is very interesting to see how the community, investors, regulators and others view it. The community is doing exactly what it is supposed to do: making great investments. @federalreserve #Bitcoin']}\n",
            "/random_phrase Response: {'Random_Phrase': 'Más vale tarde que nunca.'}\n"
          ]
        }
      ],
      "source": [
        "import requests\n",
        "\n",
        "# Define the base URL of the FastAPI endpoint\n",
        "base_url = \"https://79ae-34-75-140-168.ngrok-free.app\"\n",
        "\n",
        "# 1. Endpoint: /data/{position}\n",
        "position = 2\n",
        "response = requests.get(f\"{base_url}/data/{position}\")\n",
        "if response.status_code == 200:\n",
        "    print(f\"/data/{position} Response:\", response.json())\n",
        "else:\n",
        "    print(f\"Error: {response.status_code}\")\n",
        "\n",
        "# 2. Endpoint: /hello\n",
        "user_data = {\n",
        "    \"name\": \"John\",\n",
        "    \"surname\": \"Doe\"\n",
        "}\n",
        "response = requests.post(f\"{base_url}/hello\", json=user_data)\n",
        "if response.status_code == 200:\n",
        "    print(\"/hello Response:\", response.json())\n",
        "else:\n",
        "    print(f\"Error: {response.status_code}\")\n",
        "\n",
        "# 3. Endpoint: /classify_tweet\n",
        "tweet_data = {\n",
        "    \"text\": \"Bitcoin is the future of finance!\"\n",
        "}\n",
        "response = requests.post(f\"{base_url}/classify_tweet\", json=tweet_data)\n",
        "if response.status_code == 200:\n",
        "    print(\"/classify_tweet Response:\", response.json())\n",
        "else:\n",
        "    print(f\"Error: {response.status_code}\")\n",
        "\n",
        "# 4. Endpoint: /generate_bitcoin_tweet\n",
        "initial_text = {\n",
        "    \"text\": \"The potential of Bitcoin is\"\n",
        "}\n",
        "response = requests.post(f\"{base_url}/generate_bitcoin_tweet\", json=initial_text)\n",
        "if response.status_code == 200:\n",
        "    print(\"/generate_bitcoin_tweet Response:\", response.json())\n",
        "else:\n",
        "    print(f\"Error: {response.status_code}\")\n",
        "\n",
        "# 5. Endpoint: /random_phrase\n",
        "response = requests.get(f\"{base_url}/random_phrase\")\n",
        "if response.status_code == 200:\n",
        "    print(\"/random_phrase Response:\", response.json())\n",
        "else:\n",
        "    print(f\"Error: {response.status_code}\")\n"
      ]
    }
  ]
}